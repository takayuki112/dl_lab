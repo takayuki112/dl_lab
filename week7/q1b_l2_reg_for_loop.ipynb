{
 "cells": [
  {
   "cell_type": "code",
   "execution_count": 15,
   "metadata": {},
   "outputs": [],
   "source": [
    "import torch\n",
    "import torch.nn as nn\n",
    "from torchvision import datasets, transforms, models\n",
    "from torch.utils.data import DataLoader\n",
    "\n",
    "from matplotlib import pyplot as plt"
   ]
  },
  {
   "cell_type": "code",
   "execution_count": 16,
   "metadata": {},
   "outputs": [],
   "source": [
    "train_dir = '/home/student/Documents/220962366/data/cats_and_dogs_filtered/train'\n",
    "test_dir = '/home/student/Documents/220962366/data/cats_and_dogs_filtered/validation'\n",
    "\n",
    "mytf = transforms.Compose([\n",
    "    transforms.Resize((224, 224)),\n",
    "    transforms.ToTensor(),\n",
    "    transforms.Normalize((0.5,0.5,0.5), (0.5,0.5,0.5))\n",
    "])\n",
    "\n",
    "train_data = datasets.ImageFolder(train_dir, transform=mytf)\n",
    "test_data = datasets.ImageFolder(test_dir, transform=mytf)\n",
    "\n",
    "batchSize = 4\n",
    "\n",
    "train_loader = DataLoader(train_data, batchSize, shuffle=True)\n",
    "test_loader = DataLoader(test_data, batchSize, shuffle=False)"
   ]
  },
  {
   "cell_type": "code",
   "execution_count": null,
   "metadata": {},
   "outputs": [],
   "source": [
    "class CNN(nn.Module):\n",
    "    def __init__(self):\n",
    "        super(CNN, self).__init__()\n",
    "\n",
    "        self.net = nn.Sequential(\n",
    "            nn.Conv2d(3, 8, 3),\n",
    "            nn.ReLU(),\n",
    "            nn.MaxPool2d(2, 2),\n",
    "            nn.Conv2d(8, 16, 3),\n",
    "            nn.ReLU(),\n",
    "            nn.MaxPool2d(2, 2),\n",
    "            nn.Conv2d(16, 32, 3),\n",
    "            nn.ReLU(),\n",
    "            nn.MaxPool2d(2, 2),\n",
    "            nn.Conv2d(32, 32, 3),\n",
    "            nn.ReLU(),\n",
    "            nn.MaxPool2d(2, 2),\n",
    "            nn.Flatten()\n",
    "        )\n",
    "        feature_size = self.get_dims()\n",
    "        # print(\"Feature size = \", feature_size)\n",
    "\n",
    "        self.classification = nn.Sequential(\n",
    "            nn.Linear(feature_size, 100),\n",
    "            nn.ReLU(),\n",
    "            nn.Linear(100, 50),\n",
    "            nn.ReLU(),\n",
    "            nn.Linear(50, 2)\n",
    "        )\n",
    "\n",
    "    def forward(self, x):\n",
    "        fs = self.net(x)\n",
    "        return self.classification(fs)\n",
    "    \n",
    "    def get_dims(self):\n",
    "        dummy = torch.randn(1, 3, 224, 224)\n",
    "        y = self.net(dummy)\n",
    "        return y.numel()\n"
   ]
  },
  {
   "cell_type": "code",
   "execution_count": null,
   "metadata": {},
   "outputs": [
    {
     "name": "stdout",
     "output_type": "stream",
     "text": [
      "AlexNet(\n",
      "  (features): Sequential(\n",
      "    (0): Conv2d(3, 64, kernel_size=(11, 11), stride=(4, 4), padding=(2, 2))\n",
      "    (1): ReLU(inplace=True)\n",
      "    (2): MaxPool2d(kernel_size=3, stride=2, padding=0, dilation=1, ceil_mode=False)\n",
      "    (3): Conv2d(64, 192, kernel_size=(5, 5), stride=(1, 1), padding=(2, 2))\n",
      "    (4): ReLU(inplace=True)\n",
      "    (5): MaxPool2d(kernel_size=3, stride=2, padding=0, dilation=1, ceil_mode=False)\n",
      "    (6): Conv2d(192, 384, kernel_size=(3, 3), stride=(1, 1), padding=(1, 1))\n",
      "    (7): ReLU(inplace=True)\n",
      "    (8): Conv2d(384, 256, kernel_size=(3, 3), stride=(1, 1), padding=(1, 1))\n",
      "    (9): ReLU(inplace=True)\n",
      "    (10): Conv2d(256, 256, kernel_size=(3, 3), stride=(1, 1), padding=(1, 1))\n",
      "    (11): ReLU(inplace=True)\n",
      "    (12): MaxPool2d(kernel_size=3, stride=2, padding=0, dilation=1, ceil_mode=False)\n",
      "  )\n",
      "  (avgpool): AdaptiveAvgPool2d(output_size=(6, 6))\n",
      "  (classifier): Sequential(\n",
      "    (0): Dropout(p=0.5, inplace=False)\n",
      "    (1): Linear(in_features=9216, out_features=4096, bias=True)\n",
      "    (2): ReLU(inplace=True)\n",
      "    (3): Dropout(p=0.5, inplace=False)\n",
      "    (4): Linear(in_features=4096, out_features=4096, bias=True)\n",
      "    (5): ReLU(inplace=True)\n",
      "    (6): Linear(in_features=4096, out_features=2, bias=True)\n",
      "  )\n",
      ")\n",
      "Number of trainable parameters in Model 2 =  8194\n"
     ]
    }
   ],
   "source": [
    "device = \"cuda\" if torch.cuda.is_available() else \"cpu\"\n",
    "torch.manual_seed(42)\n",
    "\n",
    "model = CNN().to(device)\n",
    "\n",
    "criteria = nn.CrossEntropyLoss()\n",
    "optimizer = torch.optim.Adam(model.parameters(), lr = 0.001)\n",
    "\n",
    "model2 = models.alexnet(weights = models.AlexNet_Weights.DEFAULT)\n",
    "model2.classifier[-1] = nn.Linear(4096, 2, bias=True)\n",
    "for p in model2.parameters():\n",
    "    p.requires_grad = False\n",
    "\n",
    "for p in model2.classifier[-1].parameters():\n",
    "    p.requires_grad = True\n",
    "\n",
    "print(model2)\n",
    "print(\"Number of trainable parameters in Model 2 = \", sum(p.numel() for p in model2.parameters() if p.requires_grad))"
   ]
  },
  {
   "cell_type": "code",
   "execution_count": null,
   "metadata": {},
   "outputs": [
    {
     "name": "stdout",
     "output_type": "stream",
     "text": [
      "Ep 1/20: TrainLoss = 0.6924, ValLoss = 0.6859, TrainAcc = 51.00%, ValAcc = 57.50%\n",
      "Ep 2/20: TrainLoss = 0.6899, ValLoss = 0.7009, TrainAcc = 54.35%, ValAcc = 50.00%\n",
      "Ep 3/20: TrainLoss = 0.6833, ValLoss = 0.6651, TrainAcc = 56.80%, ValAcc = 60.60%\n",
      "Ep 4/20: TrainLoss = 0.6684, ValLoss = 0.6598, TrainAcc = 61.45%, ValAcc = 61.20%\n",
      "Ep 5/20: TrainLoss = 0.6442, ValLoss = 0.6878, TrainAcc = 63.30%, ValAcc = 57.60%\n",
      "Ep 6/20: TrainLoss = 0.6182, ValLoss = 0.6409, TrainAcc = 66.20%, ValAcc = 64.10%\n"
     ]
    }
   ],
   "source": [
    "epochs = 20\n",
    "\n",
    "loss_list = []\n",
    "val_loss_list = []\n",
    "accuracy_list = []\n",
    "val_acc_list = []\n",
    "\n",
    "def count_correct(out, lab):\n",
    "    return sum(out.argmax(1) == lab).item()\n",
    "\n",
    "for ep in range(epochs):\n",
    "    rloss = 0\n",
    "    corr = 0\n",
    "    model.train()\n",
    "    for inp, lab in train_loader:\n",
    "        inp, lab = inp.to(device), lab.to(device)\n",
    "\n",
    "        out = model(inp)\n",
    "        loss = criteria(out, lab)\n",
    "        \n",
    "        # L2 regularization\n",
    "        l2_reg = torch.tensor(0.)\n",
    "        for param in model.parameters():\n",
    "            l2_reg += torch.norm(param)\n",
    "        \n",
    "        l2_lambda = 0.001\n",
    "        loss += l2_lambda * l2_reg\n",
    "\n",
    "        optimizer.zero_grad()\n",
    "        loss.backward()\n",
    "        optimizer.step()\n",
    "\n",
    "        rloss += loss\n",
    "        corr += count_correct(out, lab)\n",
    "    \n",
    "    tloss = rloss / len(train_loader)\n",
    "    tacc = 100 * (corr / (len(train_loader) * batchSize))\n",
    "    loss_list.append(tloss.item())\n",
    "    accuracy_list.append(tacc)\n",
    "\n",
    "    rloss = 0\n",
    "    corr = 0\n",
    "    model.eval()\n",
    "\n",
    "    for inp, lab in test_loader:\n",
    "        inp, lab = inp.to(device), lab.to(device)\n",
    "        \n",
    "        with torch.no_grad():\n",
    "            out = model(inp)\n",
    "        \n",
    "        rloss += criteria(out, lab)\n",
    "        corr += count_correct(out, lab)\n",
    "    \n",
    "    vloss = rloss / len(test_loader)\n",
    "    vacc = 100 * (corr / (len(test_loader) * batchSize))\n",
    "\n",
    "    val_loss_list.append(vloss)\n",
    "    val_acc_list.append(vacc)\n",
    "\n",
    "    print(f\"Ep {ep+1}/{epochs}: TrainLoss = {tloss:.4f}, ValLoss = {vloss:.4f}, TrainAcc = {tacc:.2f}%, ValAcc = {vacc:.2f}%\")\n",
    "    "
   ]
  },
  {
   "cell_type": "code",
   "execution_count": null,
   "metadata": {},
   "outputs": [
    {
     "data": {
      "image/png": "[encoded data removed]",
      "text/plain": [
       "<Figure size 640x480 with 1 Axes>"
      ]
     },
     "metadata": {},
     "output_type": "display_data"
    }
   ],
   "source": [
    "plt.title(\"Loss vs Epoch\")\n",
    "plt.plot(loss_list, label = \"Train\")\n",
    "plt.plot(val_loss_list, label = \"Val\")\n",
    "plt.grid()\n",
    "plt.legend()\n",
    "plt.xlabel(\"Epochs\")\n",
    "plt.ylabel(\"Loss value\")\n",
    "plt.show()\n",
    "\n",
    "plt.title(\"Accuracies over the epochs\")\n",
    "plt.plot(accuracy_list, label = \"Train\")\n",
    "plt.plot(val_acc_list, label = \"Val\")\n",
    "plt.grid()\n",
    "plt.legend()\n",
    "plt.xlabel(\"Epochs\")\n",
    "plt.ylabel(\"Accuracies\")\n",
    "plt.show()"
   ]
  },
  {
   "cell_type": "code",
   "execution_count": null,
   "metadata": {},
   "outputs": [],
   "source": [
    "checkpoint = {\n",
    "    \"epochs\":epochs,\n",
    "    \"model_state_dict\":model.state_dict(),\n",
    "    \"optimizer_state_dict\":optimizer.state_dict()\n",
    "}\n",
    "ch_path = f'./checkpoints/chkpt_ep{epochs}.pth'\n",
    "torch.save(checkpoint, ch_path)"
   ]
  }
 ],
 "metadata": {
  "kernelspec": {
   "display_name": "myenv",
   "language": "python",
   "name": "python3"
  },
  "language_info": {
   "codemirror_mode": {
    "name": "ipython",
    "version": 3
   },
   "file_extension": ".py",
   "mimetype": "text/x-python",
   "name": "python",
   "nbconvert_exporter": "python",
   "pygments_lexer": "ipython3",
   "version": "3.12.3"
  }
 },
 "nbformat": 4,
 "nbformat_minor": 2
}
