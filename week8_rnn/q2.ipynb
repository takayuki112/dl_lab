{
 "cells": [
  {
   "cell_type": "code",
   "execution_count": 8,
   "metadata": {},
   "outputs": [],
   "source": [
    "import os\n",
    "import glob\n",
    "import unicodedata\n",
    "import string\n",
    "import torch\n",
    "\n",
    "all_letters = string.ascii_letters + \" .,;'-\"\n",
    "n_letters = len(all_letters)\n",
    "\n",
    "def unicode_to_ascii(s):\n",
    "    return ''.join(\n",
    "        c for c in unicodedata.normalize('NFD', s)\n",
    "        if unicodedata.category(c) != 'Mn' and c in all_letters\n",
    "    )\n",
    "\n",
    "# Read a file and split into lines\n",
    "def read_lines(filename):\n",
    "    lines = open(filename, encoding='utf-8').read().strip().split('\\n')\n",
    "    return [unicode_to_ascii(line) for line in lines]\n",
    "\n",
    "# Load data into category_lines\n",
    "category_lines = {}\n",
    "all_categories = []\n",
    "\n",
    "for filename in glob.glob('data/names/*.txt'):\n",
    "    category = os.path.splitext(os.path.basename(filename))[0]\n",
    "    all_categories.append(category)\n",
    "    category_lines[category] = read_lines(filename)\n",
    "\n",
    "n_categories = len(all_categories)\n"
   ]
  },
  {
   "cell_type": "code",
   "execution_count": 9,
   "metadata": {},
   "outputs": [],
   "source": [
    "# One-hot vector for a single character\n",
    "def letter_to_tensor(letter):\n",
    "    tensor = torch.zeros(1, n_letters)\n",
    "    tensor[0][all_letters.find(letter)] = 1\n",
    "    return tensor\n",
    "\n",
    "# Whole word to tensor (shape: [name_length, 1, n_letters])\n",
    "def line_to_tensor(line):\n",
    "    tensor = torch.zeros(len(line), 1, n_letters)\n",
    "    for li, letter in enumerate(line):\n",
    "        tensor[li][0][all_letters.find(letter)] = 1\n",
    "    return tensor\n"
   ]
  },
  {
   "cell_type": "code",
   "execution_count": 15,
   "metadata": {},
   "outputs": [
    {
     "name": "stdout",
     "output_type": "stream",
     "text": [
      "Total training samples: 20074\n",
      "Total categories: 18\n"
     ]
    }
   ],
   "source": [
    "# Build full training dataset\n",
    "training_examples = []\n",
    "\n",
    "for category in all_categories:\n",
    "    for line in category_lines[category]:\n",
    "        category_tensor = torch.tensor([all_categories.index(category)], dtype=torch.long)\n",
    "        line_tensor = line_to_tensor(line)\n",
    "        training_examples.append((category_tensor, line_tensor))\n",
    "\n",
    "print(f\"Total training samples: {len(training_examples)}\")\n",
    "print(f\"Total categories: {n_categories}\")"
   ]
  },
  {
   "cell_type": "code",
   "execution_count": 10,
   "metadata": {},
   "outputs": [],
   "source": [
    "import torch.nn as nn\n",
    "\n",
    "class RNN(nn.Module):\n",
    "    def __init__(self, input_size, hidden_size, output_size):\n",
    "        super().__init__()\n",
    "        self.hidden_size = hidden_size\n",
    "\n",
    "        self.i2h = nn.Linear(input_size + hidden_size, hidden_size)\n",
    "        self.i2o = nn.Linear(input_size + hidden_size, output_size)\n",
    "        self.softmax = nn.LogSoftmax(dim=1)\n",
    "\n",
    "    def forward(self, input, hidden):\n",
    "        combined = torch.cat((input, hidden), 1)\n",
    "        hidden = self.i2h(combined)\n",
    "        output = self.i2o(combined)\n",
    "        output = self.softmax(output)\n",
    "        return output, hidden\n",
    "\n",
    "    def init_hidden(self):\n",
    "        return torch.zeros(1, self.hidden_size)\n"
   ]
  },
  {
   "cell_type": "code",
   "execution_count": 16,
   "metadata": {},
   "outputs": [],
   "source": [
    "def train_epoch(rnn, training_examples, optimizer, criterion):\n",
    "    total_loss = 0\n",
    "\n",
    "    for category_tensor, line_tensor in training_examples:\n",
    "        hidden = rnn.init_hidden()\n",
    "        rnn.zero_grad()\n",
    "\n",
    "        for i in range(line_tensor.size()[0]):\n",
    "            output, hidden = rnn(line_tensor[i], hidden)\n",
    "\n",
    "        loss = criterion(output, category_tensor)\n",
    "        loss.backward()\n",
    "        optimizer.step()\n",
    "        total_loss += loss.item()\n",
    "\n",
    "    return total_loss / len(training_examples)\n"
   ]
  },
  {
   "cell_type": "code",
   "execution_count": 18,
   "metadata": {},
   "outputs": [
    {
     "name": "stdout",
     "output_type": "stream",
     "text": [
      "Epoch 1/10 - Avg Loss: 1.3813\n",
      "Epoch 2/10 - Avg Loss: 1.0762\n",
      "Epoch 3/10 - Avg Loss: 0.9739\n",
      "Epoch 4/10 - Avg Loss: 0.9207\n",
      "Epoch 5/10 - Avg Loss: 0.8865\n",
      "Epoch 6/10 - Avg Loss: 0.8653\n",
      "Epoch 7/10 - Avg Loss: 0.8490\n",
      "Epoch 8/10 - Avg Loss: 0.8273\n",
      "Epoch 9/10 - Avg Loss: 0.8157\n",
      "Epoch 10/10 - Avg Loss: 0.8076\n"
     ]
    }
   ],
   "source": [
    "import random\n",
    "\n",
    "n_epochs = 10\n",
    "print_every = 1\n",
    "losses = []  \n",
    "\n",
    "rnn = RNN(n_letters, 128, n_categories)\n",
    "criterion = nn.NLLLoss()\n",
    "optimizer = torch.optim.SGD(rnn.parameters(), lr=0.005)\n",
    "\n",
    "for epoch in range(1, n_epochs + 1):\n",
    "    random.shuffle(training_examples)  \n",
    "    avg_loss = train_epoch(rnn, training_examples, optimizer, criterion)\n",
    "    losses.append(avg_loss)\n",
    "\n",
    "    if epoch % print_every == 0:\n",
    "        print(f\"Epoch {epoch}/{n_epochs} - Avg Loss: {avg_loss:.4f}\")\n"
   ]
  },
  {
   "cell_type": "code",
   "execution_count": 19,
   "metadata": {},
   "outputs": [],
   "source": [
    "def evaluate(line_tensor):\n",
    "    hidden = rnn.init_hidden()\n",
    "    for i in range(line_tensor.size()[0]):\n",
    "        output, hidden = rnn(line_tensor[i], hidden)\n",
    "    return output\n",
    "\n",
    "# Predict top N categories\n",
    "def predict(name, n_predictions=3):\n",
    "    print(f'\\n> {name}')\n",
    "    with torch.no_grad():\n",
    "        output = evaluate(line_to_tensor(name))\n",
    "\n",
    "        topv, topi = output.topk(n_predictions, 1, True)\n",
    "        for i in range(n_predictions):\n",
    "            value = topv[0][i].item()\n",
    "            category_index = topi[0][i].item()\n",
    "            print(f'{all_categories[category_index]} ({value:.4f})')\n"
   ]
  },
  {
   "cell_type": "code",
   "execution_count": 20,
   "metadata": {},
   "outputs": [
    {
     "name": "stdout",
     "output_type": "stream",
     "text": [
      "\n",
      "> Santos\n",
      "English (-1.0095)\n",
      "Arabic (-1.2410)\n",
      "Greek (-1.8800)\n",
      "\n",
      "> Schmidt\n",
      "English (-0.4794)\n",
      "German (-1.5035)\n",
      "Russian (-3.0781)\n",
      "\n",
      "> Suzuki\n",
      "Japanese (-0.0862)\n",
      "Russian (-2.9709)\n",
      "Polish (-4.4251)\n"
     ]
    }
   ],
   "source": [
    "predict('Santos')\n",
    "predict('Schmidt')\n",
    "predict('Suzuki')\n"
   ]
  },
  {
   "cell_type": "code",
   "execution_count": 22,
   "metadata": {},
   "outputs": [
    {
     "data": {
      "text/plain": [
       "[<matplotlib.lines.Line2D at 0x7bb5b5f68cd0>]"
      ]
     },
     "execution_count": 22,
     "metadata": {},
     "output_type": "execute_result"
    },
    {
     "data": {
      "image/png": "[encoded data removed]",
      "text/plain": [
       "<Figure size 640x480 with 1 Axes>"
      ]
     },
     "metadata": {},
     "output_type": "display_data"
    }
   ],
   "source": [
    "from matplotlib import pyplot as plt\n",
    "plt.plot(losses)"
   ]
  },
  {
   "cell_type": "code",
   "execution_count": null,
   "metadata": {},
   "outputs": [],
   "source": []
  }
 ],
 "metadata": {
  "kernelspec": {
   "display_name": "Python 3",
   "language": "python",
   "name": "python3"
  },
  "language_info": {
   "codemirror_mode": {
    "name": "ipython",
    "version": 3
   },
   "file_extension": ".py",
   "mimetype": "text/x-python",
   "name": "python",
   "nbconvert_exporter": "python",
   "pygments_lexer": "ipython3",
   "version": "3.10.12"
  }
 },
 "nbformat": 4,
 "nbformat_minor": 2
}
